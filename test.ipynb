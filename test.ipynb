{
 "cells": [
  {
   "cell_type": "code",
   "execution_count": 1,
   "metadata": {},
   "outputs": [
    {
     "name": "stdout",
     "output_type": "stream",
     "text": [
      "['Empty', 'Empty']\n"
     ]
    }
   ],
   "source": [
    "state = \"Empty_Empty\"\n",
    "\n",
    "print(state.split(\"_\"))"
   ]
  },
  {
   "cell_type": "code",
   "execution_count": 4,
   "metadata": {},
   "outputs": [
    {
     "name": "stdout",
     "output_type": "stream",
     "text": [
      "BottleFull_BottleEmpty\n"
     ]
    }
   ],
   "source": [
    "state = \"BottleFull_Empty\"\n",
    "print(state.split(\"_\")[0] + \"_BottleEmpty\")"
   ]
  },
  {
   "cell_type": "code",
   "execution_count": 5,
   "metadata": {},
   "outputs": [
    {
     "name": "stdout",
     "output_type": "stream",
     "text": [
      "Empty_BottleFull\n"
     ]
    }
   ],
   "source": [
    "state = \"BottleFull_Empty\"\n",
    "state = state.split(\"_\")[1] + \"_\" + state.split(\"_\")[0]\n",
    "print(state)"
   ]
  },
  {
   "cell_type": "code",
   "execution_count": null,
   "metadata": {},
   "outputs": [],
   "source": [
    "state = \"BottleM1_BottleM2_Bottle\"\n",
    "state = state.split(\"_\")[0] + \"_\" + state.split(\"_\")[1] + \"_Bottle\""
   ]
  },
  {
   "cell_type": "code",
   "execution_count": 1,
   "metadata": {},
   "outputs": [],
   "source": [
    "a = [\n",
    "                [\"waiting for command\", \"waiting for feedback\"],\n",
    "                [\"waiting for command\", \"waiting for feedback\"],\n",
    "            ]"
   ]
  }
 ],
 "metadata": {
  "kernelspec": {
   "display_name": "Python 3",
   "language": "python",
   "name": "python3"
  },
  "language_info": {
   "codemirror_mode": {
    "name": "ipython",
    "version": 3
   },
   "file_extension": ".py",
   "mimetype": "text/x-python",
   "name": "python",
   "nbconvert_exporter": "python",
   "pygments_lexer": "ipython3",
   "version": "3.12.5"
  }
 },
 "nbformat": 4,
 "nbformat_minor": 2
}
